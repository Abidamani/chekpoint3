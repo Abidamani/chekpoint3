{
 "cells": [
  {
   "cell_type": "code",
   "execution_count": 20,
   "id": "7175de29",
   "metadata": {},
   "outputs": [
    {
     "name": "stdout",
     "output_type": "stream",
     "text": [
      "720\n"
     ]
    }
   ],
   "source": [
    "def multiplyList(my_list) : \n",
    "                                              #Question1\n",
    "    result=1\n",
    "    for i in my_list:\n",
    "        result= result * i\n",
    "    return result\n",
    "my_list=[1,2,3,4,5,6]\n",
    "print(multiplyList(my_list))"
   ]
  },
  {
   "cell_type": "code",
   "execution_count": 16,
   "id": "97e23080",
   "metadata": {},
   "outputs": [
    {
     "name": "stdout",
     "output_type": "stream",
     "text": [
      "36\n"
     ]
    }
   ],
   "source": [
    "l=[2,3,6]                                  #Question1\n",
    "x=1\n",
    "for i in l:\n",
    "    x=x*i\n",
    "print(x)"
   ]
  },
  {
   "cell_type": "code",
   "execution_count": 21,
   "id": "2a7d4bfc",
   "metadata": {},
   "outputs": [
    {
     "name": "stdout",
     "output_type": "stream",
     "text": [
      "[(1, 2), (2, 1), (2, 3), (2, 5), (4, 4)]\n"
     ]
    }
   ],
   "source": [
    "my_list=[(2,5),(1,2),(4,4),(2,3),(2,1)]            #Question2\n",
    "my_list.sort()\n",
    "print (my_list)"
   ]
  },
  {
   "cell_type": "code",
   "execution_count": 6,
   "id": "423cc55a",
   "metadata": {},
   "outputs": [
    {
     "name": "stdout",
     "output_type": "stream",
     "text": [
      "{'a': 400}\n",
      "{'a': 400}\n",
      "{'a': 400}\n",
      "{'a': 400}\n",
      "{'a': 400, 'b': 400}\n",
      "{'a': 400, 'b': 400}\n",
      "{'a': 400, 'b': 400}\n",
      "{'a': 400, 'b': 400}\n",
      "{'a': 400, 'b': 400}\n"
     ]
    }
   ],
   "source": [
    "dictionary1={'a':100,'b':200,'c':300}      #Question3\n",
    "dictionary2={'a':300,'b':200,'d':400} \n",
    "dictionary3={}\n",
    "for i,j in dictionary1.items():\n",
    "    for x,y in dictionary2.items():\n",
    "        if i==x:\n",
    "            dictionary3[i]=(j+y)\n",
    "        print(dictionary3)\n"
   ]
  },
  {
   "cell_type": "code",
   "execution_count": 7,
   "id": "3136b6e1",
   "metadata": {},
   "outputs": [
    {
     "name": "stdout",
     "output_type": "stream",
     "text": [
      "Enter a number:9\n",
      "{1: 1, 2: 4, 3: 9, 4: 16, 5: 25, 6: 36, 7: 49, 8: 64, 9: 81}\n"
     ]
    }
   ],
   "source": [
    "n=int(input(\"Enter a number:\"))         #Question 4\n",
    "d={x:x*x for x in range(1,n+1)}\n",
    "print(d)"
   ]
  },
  {
   "cell_type": "code",
   "execution_count": null,
   "id": "51f50c79",
   "metadata": {},
   "outputs": [],
   "source": []
  }
 ],
 "metadata": {
  "kernelspec": {
   "display_name": "Python 3 (ipykernel)",
   "language": "python",
   "name": "python3"
  },
  "language_info": {
   "codemirror_mode": {
    "name": "ipython",
    "version": 3
   },
   "file_extension": ".py",
   "mimetype": "text/x-python",
   "name": "python",
   "nbconvert_exporter": "python",
   "pygments_lexer": "ipython3",
   "version": "3.9.7"
  }
 },
 "nbformat": 4,
 "nbformat_minor": 5
}
